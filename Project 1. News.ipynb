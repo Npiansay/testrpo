{
 "cells": [
  {
   "cell_type": "code",
   "execution_count": 3,
   "id": "634f7552-a954-4ab6-8e04-80fca5b74ca7",
   "metadata": {},
   "outputs": [
    {
     "name": "stdout",
     "output_type": "stream",
     "text": [
      "\n",
      "Hello World\n",
      "\n"
     ]
    }
   ],
   "source": [
    "\"\"\"\n",
    "# This is my first project on this computer. I will be taking some of the stuff I learned form Road Ranger and making my own stuff here\n",
    "\n",
    "One of the objectives of this project is to provide relevant news and center it all in one place. (Most of this will be web scraping)\n",
    "\n",
    "Want to get:\n",
    "-Chicago Weather\n",
    "-stock things?\n",
    "-twitter trending words?\n",
    "-\n",
    "\n",
    "\"\"\"\n",
    "\n",
    "print()\n",
    "print(\"Hello World\")\n",
    "print()"
   ]
  },
  {
   "cell_type": "code",
   "execution_count": null,
   "id": "ed501fbb-49a5-4446-bd8d-e78858801f78",
   "metadata": {},
   "outputs": [],
   "source": [
    "# import needed packagesabs\n",
    "\n"
   ]
  },
  {
   "cell_type": "code",
   "execution_count": null,
   "id": "c506cc1e-42c5-447d-8245-a7184ac0a199",
   "metadata": {},
   "outputs": [],
   "source": [
    "\n",
    "\n"
   ]
  },
  {
   "cell_type": "code",
   "execution_count": null,
   "id": "0bf8cd78-cdc9-41a9-8ba6-68633527f1db",
   "metadata": {},
   "outputs": [],
   "source": []
  },
  {
   "cell_type": "code",
   "execution_count": null,
   "id": "67567640-4779-4a9d-aadf-548aba33decd",
   "metadata": {},
   "outputs": [],
   "source": []
  },
  {
   "cell_type": "code",
   "execution_count": null,
   "id": "dbd3cc90-81f3-48c9-838f-d067bab89654",
   "metadata": {},
   "outputs": [],
   "source": []
  }
 ],
 "metadata": {
  "kernelspec": {
   "display_name": "Python 3 (ipykernel)",
   "language": "python",
   "name": "python3"
  },
  "language_info": {
   "codemirror_mode": {
    "name": "ipython",
    "version": 3
   },
   "file_extension": ".py",
   "mimetype": "text/x-python",
   "name": "python",
   "nbconvert_exporter": "python",
   "pygments_lexer": "ipython3",
   "version": "3.12.0"
  }
 },
 "nbformat": 4,
 "nbformat_minor": 5
}
